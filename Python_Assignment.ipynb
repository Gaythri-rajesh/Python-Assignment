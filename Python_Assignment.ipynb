{
  "nbformat": 4,
  "nbformat_minor": 0,
  "metadata": {
    "colab": {
      "provenance": []
    },
    "kernelspec": {
      "name": "python3",
      "display_name": "Python 3"
    },
    "language_info": {
      "name": "python"
    }
  },
  "cells": [
    {
      "cell_type": "code",
      "execution_count": null,
      "metadata": {
        "id": "8Kpv2C_bdiLh"
      },
      "outputs": [],
      "source": []
    },
    {
      "cell_type": "markdown",
      "source": [
        "#Python Assignment\n",
        "\n",
        "1. What is Python and whay is it popular?\n",
        "\n",
        "    -> python is a high  level programming language that is easy to ubnderstand and write, making it a popular choice among developers and programmers.\n",
        "    It supports various programming paradigms like procedural, object-oriented, and functional programming.\n",
        "    \n",
        "    Python is popular becoz:Python is popular because of its simple  syntax, large developer community, rich standard library and extensive third party packages.These features make it highly versatile and suitable for a wide range of applications,, including web development, data science, artificial intelligence and automation.\n",
        "\n",
        "2. What is an intepreter in Python?\n",
        "    \n",
        "    -> An intepreer is a program that reads and executes Python code line by line. Unlike a complied languages, Python not require a seperate complication step; the intepreter directly convert the code into machine-readable instruction and executes it. this makes the Python flexible and easy to debug.\n",
        "\n",
        "3. What are  the Pre-defined keywords in Python?\n",
        "    \n",
        "    -> Pre-defined keywords are reserved words in python that have specific meaning and purpose. They are part of the python suntax and cannot be used as variable names. Example include:\n",
        "\n",
        "    . if,else,elif(conditional  statements)\n",
        "\n",
        "    . for,while(loops)\n",
        "\n",
        "    . True, False (boolean values)\n",
        "\n",
        "    . def (function definitionn)\n",
        "\n",
        "    . class (class definition)\n",
        "\n",
        "4. Can keywords be used as variable names?\n",
        "\n",
        "    -> No,keywords cannot be used as variable names because they are reserved for specific functionalities in python. For example, you cannot use if or else as as variable names because they are part of the syntax for conditional statement.\n",
        "\n",
        "5.  What is mutability in Python?\n",
        "    \n",
        "    -> Mutability refers to whether an object can be changed after it is created.\n",
        "    \n",
        "    . Mutable objects: Their values can be modified after creation (e.g., lists, dictionaries).\n",
        "    \n",
        "    . Immutable objects: Their values cannot be changed after creation (e.g., tuples, strings).\n",
        "\n",
        "6.  Why are lists mutable, but tuples are immutable?\n",
        "    \n",
        "    -> Lists are mutable because they are designed to allow modifications, such as adding, removing, or changing elements. this makes them suitable for dynamic data structures.\n",
        "    Tuples are immutable to ensure data integrity and optimize performance. Since tuples cannot be changed, they are faster and safer to use in scenarios where data should remain constant.\n",
        "7. What is the difference between \"==\" and \"is\" operators in Python?\n",
        "\n",
        "    -> . == checks for value equality. it compares whether twwo objects have same value.\n",
        "\n",
        "    . is checks for object identity. It compares whether two objects refer too the same memory location.\n",
        "\n",
        "    Examples :\n",
        "\n",
        "    a = [1, 2, 3]\n",
        "\n",
        "    b = [1, 2, 3]\n",
        "\n",
        "    print(a == b) # True  (values are equal)\n",
        "\n",
        "    print(a is b) # Falae (different memory)\n",
        "\n",
        "8. What are logical operators in Python?\n",
        "\n",
        "    -> Logical operators are used to combine ci=onditional statements. They include:\n",
        "\n",
        "    . and : Returns true if both conditions are true.\n",
        "\n",
        "    . or : Returns True if at least one condition is true.\n",
        "\n",
        "    . not : Returns the opposite of the condition.\n",
        "\n",
        "    Example:\n",
        "\n",
        "    x = 10\n",
        "\n",
        "    print(x > 5 and x < 15)  # True\n",
        "\n",
        "    print(x > 5 or x > 20)   # True\n",
        "\n",
        "    print(not(x > 5))        # False\n",
        "\n",
        "9. What is type casting in Python?\n",
        "\n",
        "    -> Type casting is the process of converting one data type to another. Python Supports :\n",
        "\n",
        "    . Implicit type casting : Automatically converts smaller data types types to larger ones.\n",
        "\n",
        "    . Explicit type casting : Requires the programmer to use functions like int(), float(), or str() to convert data types.\n",
        "\n",
        "10. What is the differnce between implicit and explicit type casting?\n",
        "\n",
        "    -> Implicit type casting : Python automatically converts one data type to another without user intervention.\n",
        "\n",
        "    Example:\n",
        "\n",
        "    x = 10\n",
        "\n",
        "    y = 2.5\n",
        "\n",
        "    z = x + y  # int is implicitly converted to float\n",
        "\n",
        "    print(z)   # Output: 12.5\n",
        "\n",
        "    Expllicit type casting : The programmer manually  converts one data type to another using casting functions.\n",
        "\n",
        "    Example:\n",
        "      \n",
        "    x = \"10\"\n",
        "\n",
        "    y = int(x)  # Explicitly converts string to integer\n",
        "    \n",
        "    print(y)    # Output: 10\n",
        "\n",
        "\n",
        "11. What is the purpose of conditional\n",
        "statement in Python?\n",
        "\n",
        "    -> Conditional statements  (if, elif, else) allow thee program to execute specific blocks of code based on conditions. They are used for decision - making in programs.\n",
        "\n",
        "    x = 10\n",
        "\n",
        "    if x > 0:\n",
        "\n",
        "    print(\"Positive\")\n",
        "\n",
        "    elif x == 0:\n",
        "\n",
        "    print(\"Zero\")\n",
        "\n",
        "    else:\n",
        "\n",
        "    print(\"Negative\")\n",
        "\n",
        "12. How does the elif statement works?\n",
        "\n",
        "    -> The elif statement is used to check multiple conditions after the initial if condition. If the if condition is false, python evaluates the elif conditions sequentially until one is true.\n",
        "\n",
        "    Example:\n",
        "    \n",
        "    x = 10\n",
        "\n",
        "    if x > 20:\n",
        "\n",
        "    print(\"Greater than 20\")\n",
        "\n",
        "    elif x > 5:\n",
        "\n",
        "    print(\"Greater than 5\")\n",
        "\n",
        "    else:\n",
        "\n",
        "    print(\"Less than or equal to 5\")\n",
        "\n",
        "13. What is the difference between for and while loop?\n",
        "\n",
        "    -> For loop : Is used when we know in advance how many times we want to repeat a block of code. It includes initialization, conditionn, and update in a single line making it compact and easy to use for fixed repetions.\n",
        "\n",
        "    While Loop : Is used when we dont know the exact number of repetitions in advance. It only checks the conditions before each iteration and continues as long as the condition is true. We must handle initialization and updating seperately.\n",
        "\n",
        "14. Describe a senario where a while loop is more suitable than a for loop.\n",
        "\n",
        "    -> A while loop is more suitable than a for loop when the number of iterations is not known in advance and the loop needs to run until a certain condition is met.\n",
        "\n",
        "    Scenario:\n",
        "\n",
        "    Consider a login system where a user is repeatedly prompted to enter the correct password. Since we don't know how many attempts the user will take, we use a while loop to keep checking until the correct password is enter\n",
        "     \n",
        "    correct_password = \"admin123\"\n",
        "\n",
        "    entered_password = \"\"\n",
        "\n",
        "    while entered_password != correct_password:\n",
        "\n",
        "    entered_password = input(\"Enter your password: \")\n",
        "\n",
        "    print(\"Login successful!\")\n",
        "\n",
        "    In this case, a while loop is ideal because it continues to execute until the user inputs the correct password, which makes the number of repetitions unknown beforehand. A for loop would not be appropriate here since it is typically used when the number of iterations is fixed or known.\n",
        "    \n",
        "\n",
        "\n",
        "\n",
        "\n"
      ],
      "metadata": {
        "id": "gXDcdq2gd1mz"
      }
    },
    {
      "cell_type": "markdown",
      "source": [
        "# **Practical Answers.**\n",
        "\n",
        "1. Write a Python program to print \"Hello, World"
      ],
      "metadata": {
        "id": "e0zIA_REXg43"
      }
    },
    {
      "cell_type": "code",
      "source": [
        "print(\"Hello, World!\")"
      ],
      "metadata": {
        "colab": {
          "base_uri": "https://localhost:8080/"
        },
        "id": "3fWYhxp2X_7C",
        "outputId": "5b601956-7abd-473c-936a-f521dafc2ad3"
      },
      "execution_count": 1,
      "outputs": [
        {
          "output_type": "stream",
          "name": "stdout",
          "text": [
            "Hello, World!\n"
          ]
        }
      ]
    },
    {
      "cell_type": "markdown",
      "source": [
        "2. Write a Python program that displays your name and age\n",
        "  "
      ],
      "metadata": {
        "id": "IJmrFjycYSqY"
      }
    },
    {
      "cell_type": "code",
      "source": [
        "Name = \"Gayathri\"\n",
        "Age= 24\n",
        "\n",
        "print(\"Gayathri\", Name)\n",
        "print(\"24\", Age)"
      ],
      "metadata": {
        "colab": {
          "base_uri": "https://localhost:8080/"
        },
        "id": "sWOUB9P4YZ7B",
        "outputId": "70f50886-1811-41c7-92f2-c92319918ebf"
      },
      "execution_count": 5,
      "outputs": [
        {
          "output_type": "stream",
          "name": "stdout",
          "text": [
            "Gayathri Gayathri\n",
            "24 24\n"
          ]
        }
      ]
    },
    {
      "cell_type": "markdown",
      "source": [
        "3. Write code to print all the pre-defined keywords in Python using the keyword library"
      ],
      "metadata": {
        "id": "00SiqYS3Y8jG"
      }
    },
    {
      "cell_type": "code",
      "source": [
        "import keyword\n",
        "\n",
        "keywords = keyword.kwlist\n",
        "\n",
        "print(\"Python keywords are:\")\n",
        "for kw in keywords:\n",
        "    print(kw)\n"
      ],
      "metadata": {
        "colab": {
          "base_uri": "https://localhost:8080/"
        },
        "id": "9nb6pgT5ZCH2",
        "outputId": "42e8ea5a-a972-498f-d981-febb7e197aba"
      },
      "execution_count": 15,
      "outputs": [
        {
          "output_type": "stream",
          "name": "stdout",
          "text": [
            "Python keywords are:\n",
            "False\n",
            "None\n",
            "True\n",
            "and\n",
            "as\n",
            "assert\n",
            "async\n",
            "await\n",
            "break\n",
            "class\n",
            "continue\n",
            "def\n",
            "del\n",
            "elif\n",
            "else\n",
            "except\n",
            "finally\n",
            "for\n",
            "from\n",
            "global\n",
            "if\n",
            "import\n",
            "in\n",
            "is\n",
            "lambda\n",
            "nonlocal\n",
            "not\n",
            "or\n",
            "pass\n",
            "raise\n",
            "return\n",
            "try\n",
            "while\n",
            "with\n",
            "yield\n"
          ]
        }
      ]
    },
    {
      "cell_type": "markdown",
      "source": [
        "4. Write a program that checks if a given word is a Python keyword."
      ],
      "metadata": {
        "id": "V3d3oHaoZ0j0"
      }
    },
    {
      "cell_type": "code",
      "source": [
        "word = input(\"Enter a word: \")\n",
        "if keyword.iskeyword(word):\n",
        "    print(f\"{word} is a Python keyword.\")\n",
        "else:\n",
        "    print(f\"{word} is not a Python keyword.\")"
      ],
      "metadata": {
        "colab": {
          "base_uri": "https://localhost:8080/"
        },
        "id": "GNXMb0u5Z4-Y",
        "outputId": "8f1d4dc9-cae6-4e05-8769-7a38b0ae56ca"
      },
      "execution_count": 17,
      "outputs": [
        {
          "output_type": "stream",
          "name": "stdout",
          "text": [
            "Enter a word: enter\n",
            "enter is not a Python keyword.\n"
          ]
        }
      ]
    },
    {
      "cell_type": "markdown",
      "source": [
        "5.  Create a list and tuple in Python, and demonstrate how attempting to change an element works differently for each."
      ],
      "metadata": {
        "id": "bdIEwtFpaHJu"
      }
    },
    {
      "cell_type": "code",
      "source": [
        "my_list = [1, 2, 3]\n",
        "my_tuple = (1, 2, 3)\n",
        "\n",
        "my_list[0] = 100  # works fine\n",
        "print(\"Modified list:\", my_list)\n",
        "\n",
        "try:\n",
        "    my_tuple[0] = 100  # raises an error\n",
        "except TypeError as e:\n",
        "    print(\"Error modifying tuple:\", e)"
      ],
      "metadata": {
        "colab": {
          "base_uri": "https://localhost:8080/"
        },
        "id": "2C85Td-jaM_F",
        "outputId": "537dfc9b-6c3a-41ca-9df9-0fde14c98db7"
      },
      "execution_count": 18,
      "outputs": [
        {
          "output_type": "stream",
          "name": "stdout",
          "text": [
            "Modified list: [100, 2, 3]\n",
            "Error modifying tuple: 'tuple' object does not support item assignment\n"
          ]
        }
      ]
    },
    {
      "cell_type": "markdown",
      "source": [
        "6. Write a function to demonstrate the behavior of mutable and immutable arguments."
      ],
      "metadata": {
        "id": "n-RkTpPGabQK"
      }
    },
    {
      "cell_type": "code",
      "source": [
        "def modify_list(l):\n",
        "    l.append(100)\n",
        "\n",
        "def modify_number(n):\n",
        "    n += 10\n",
        "    return n\n",
        "\n",
        "lst = [1, 2, 3]\n",
        "num = 5\n",
        "\n",
        "modify_list(lst)\n",
        "print(\"Modified list (mutable):\", lst)\n",
        "\n",
        "num = modify_number(num)\n",
        "print(\"Modified number (immutable):\", num)"
      ],
      "metadata": {
        "colab": {
          "base_uri": "https://localhost:8080/"
        },
        "id": "tjwbsVgGadKk",
        "outputId": "e8bccc58-6f62-4f81-fbb6-4076e7ff204d"
      },
      "execution_count": 19,
      "outputs": [
        {
          "output_type": "stream",
          "name": "stdout",
          "text": [
            "Modified list (mutable): [1, 2, 3, 100]\n",
            "Modified number (immutable): 15\n"
          ]
        }
      ]
    },
    {
      "cell_type": "markdown",
      "source": [
        "7.  Write a program that performs basic arithmetic operations on two user-input numbers."
      ],
      "metadata": {
        "id": "qxirNLymaoyo"
      }
    },
    {
      "cell_type": "code",
      "source": [
        "a = float(input(\"Enter first number: \"))\n",
        "b = float(input(\"Enter second number: \"))\n",
        "\n",
        "print(\"Addition:\", a + b)\n",
        "print(\"Subtraction:\", a - b)\n",
        "print(\"Multiplication:\", a * b)\n",
        "print(\"Division:\", a / b if b != 0 else \"Undefined (division by zero)\")"
      ],
      "metadata": {
        "colab": {
          "base_uri": "https://localhost:8080/"
        },
        "id": "gsTq4K2gasB-",
        "outputId": "08e74def-5692-4b83-eb10-12b6c4a7d085"
      },
      "execution_count": 20,
      "outputs": [
        {
          "output_type": "stream",
          "name": "stdout",
          "text": [
            "Enter first number: 1\n",
            "Enter second number: 2\n",
            "Addition: 3.0\n",
            "Subtraction: -1.0\n",
            "Multiplication: 2.0\n",
            "Division: 0.5\n"
          ]
        }
      ]
    },
    {
      "cell_type": "markdown",
      "source": [
        "8.  Write a program to demonstrate the use of logical operators."
      ],
      "metadata": {
        "id": "vj4BtQsYazvO"
      }
    },
    {
      "cell_type": "code",
      "source": [
        "x = True\n",
        "y = False\n",
        "print(\"x and y:\", x and y)\n",
        "print(\"x or y:\", x or y)\n",
        "print(\"not x:\", not x)"
      ],
      "metadata": {
        "colab": {
          "base_uri": "https://localhost:8080/"
        },
        "id": "G1aI0Ynka4kq",
        "outputId": "5d9e3aa9-14c5-4747-8bd8-612ad0c802ca"
      },
      "execution_count": 21,
      "outputs": [
        {
          "output_type": "stream",
          "name": "stdout",
          "text": [
            "x and y: False\n",
            "x or y: True\n",
            "not x: False\n"
          ]
        }
      ]
    },
    {
      "cell_type": "markdown",
      "source": [
        "9.  Write a Python program to convert user input from string to integer, float, and boolean types."
      ],
      "metadata": {
        "id": "QfZJ5a_va8bp"
      }
    },
    {
      "cell_type": "code",
      "source": [
        "user_input = input(\"Enter a number: \")\n",
        "print(\"As Integer:\", int(user_input))\n",
        "print(\"As Float:\", float(user_input))\n",
        "print(\"As Boolean:\", bool(int(user_input)))  # non-zero is True"
      ],
      "metadata": {
        "colab": {
          "base_uri": "https://localhost:8080/"
        },
        "id": "EynUgwe4dnzu",
        "outputId": "66c80451-ec16-4e48-a14e-64af2f9da6aa"
      },
      "execution_count": 22,
      "outputs": [
        {
          "output_type": "stream",
          "name": "stdout",
          "text": [
            "Enter a number: 23\n",
            "As Integer: 23\n",
            "As Float: 23.0\n",
            "As Boolean: True\n"
          ]
        }
      ]
    },
    {
      "cell_type": "markdown",
      "source": [
        "10.  Write code to demonstrate type casting with list elements."
      ],
      "metadata": {
        "id": "dpXdI-SRduC6"
      }
    },
    {
      "cell_type": "code",
      "source": [
        "str_list = ['1', '2', '3']\n",
        "int_list = [int(i) for i in str_list]\n",
        "print(\"Integer list:\", int_list)"
      ],
      "metadata": {
        "colab": {
          "base_uri": "https://localhost:8080/"
        },
        "id": "pvi1e1-vhpjO",
        "outputId": "b230cb97-31f7-4550-e93a-1eb1f1c0d2ef"
      },
      "execution_count": 23,
      "outputs": [
        {
          "output_type": "stream",
          "name": "stdout",
          "text": [
            "Integer list: [1, 2, 3]\n"
          ]
        }
      ]
    },
    {
      "cell_type": "markdown",
      "source": [
        "11. Write a program that checks if a number is positive, negative, or zero."
      ],
      "metadata": {
        "id": "PaLn6_HbhvOW"
      }
    },
    {
      "cell_type": "code",
      "source": [
        "num = float(input(\"Enter a number: \"))\n",
        "if num > 0:\n",
        "    print(\"Positive\")\n",
        "elif num < 0:\n",
        "    print(\"Negative\")\n",
        "else:\n",
        "    print(\"Zero\")\n"
      ],
      "metadata": {
        "colab": {
          "base_uri": "https://localhost:8080/"
        },
        "id": "4e3bia2LhzUP",
        "outputId": "aa40d752-2f7b-4b02-9222-7739db11b73a"
      },
      "execution_count": 24,
      "outputs": [
        {
          "output_type": "stream",
          "name": "stdout",
          "text": [
            "Enter a number: 1\n",
            "Positive\n"
          ]
        }
      ]
    },
    {
      "cell_type": "markdown",
      "source": [
        "12.  Write a for loop to print numbers from 1 to 10."
      ],
      "metadata": {
        "id": "oSak6GaBh5kd"
      }
    },
    {
      "cell_type": "code",
      "source": [
        "for i in range(1, 11):\n",
        "    print(i)"
      ],
      "metadata": {
        "colab": {
          "base_uri": "https://localhost:8080/"
        },
        "id": "D3f6LSN4iIHV",
        "outputId": "c0c5c248-6597-45fb-d719-fa0252e57f9f"
      },
      "execution_count": 25,
      "outputs": [
        {
          "output_type": "stream",
          "name": "stdout",
          "text": [
            "1\n",
            "2\n",
            "3\n",
            "4\n",
            "5\n",
            "6\n",
            "7\n",
            "8\n",
            "9\n",
            "10\n"
          ]
        }
      ]
    },
    {
      "cell_type": "markdown",
      "source": [
        "13.  Write a Python program to find the sum of all even numbers between 1 and 50."
      ],
      "metadata": {
        "id": "xz5eRzlCiNGw"
      }
    },
    {
      "cell_type": "code",
      "source": [
        "even_sum = sum(i for i in range(1, 51) if i % 2 == 0)\n",
        "print(\"Sum of even numbers from 1 to 50:\", even_sum)"
      ],
      "metadata": {
        "colab": {
          "base_uri": "https://localhost:8080/"
        },
        "id": "dLSijBtxiV0a",
        "outputId": "179c56b1-f5a1-4763-815a-5be4ae366cf3"
      },
      "execution_count": 26,
      "outputs": [
        {
          "output_type": "stream",
          "name": "stdout",
          "text": [
            "Sum of even numbers from 1 to 50: 650\n"
          ]
        }
      ]
    },
    {
      "cell_type": "markdown",
      "source": [
        "14. Write a program to reverse a string using a while loop."
      ],
      "metadata": {
        "id": "kEuWUbNDiXMv"
      }
    },
    {
      "cell_type": "code",
      "source": [
        "s = input(\"Enter a string to reverse: \")\n",
        "reversed_str = \"\"\n",
        "i = len(s) - 1\n",
        "while i >= 0:\n",
        "    reversed_str += s[i]\n",
        "    i -= 1\n",
        "print(\"Reversed string:\", reversed_str)"
      ],
      "metadata": {
        "colab": {
          "base_uri": "https://localhost:8080/"
        },
        "id": "DQjbf6zaibab",
        "outputId": "1dde68a2-a88a-4942-d8be-627b1d00fdaf"
      },
      "execution_count": 27,
      "outputs": [
        {
          "output_type": "stream",
          "name": "stdout",
          "text": [
            "Enter a string to reverse: 3\n",
            "Reversed string: 3\n"
          ]
        }
      ]
    },
    {
      "cell_type": "markdown",
      "source": [
        "15. Write a Python program to calculate the factorial of a number provided by the user using a while loop.\n"
      ],
      "metadata": {
        "id": "JGpkF-RKifoD"
      }
    },
    {
      "cell_type": "code",
      "source": [
        "n = int(input(\"Enter a number to find factorial: \"))\n",
        "factorial = 1\n",
        "i = 1\n",
        "while i <= n:\n",
        "    factorial *= i\n",
        "    i += 1\n",
        "print(f\"Factorial of {n} is {factorial}\")"
      ],
      "metadata": {
        "colab": {
          "base_uri": "https://localhost:8080/"
        },
        "id": "AnlSoROxip6m",
        "outputId": "f1113aad-1bd5-40d6-a818-aeab4ffdb71d"
      },
      "execution_count": 28,
      "outputs": [
        {
          "output_type": "stream",
          "name": "stdout",
          "text": [
            "Enter a number to find factorial: 10\n",
            "Factorial of 10 is 3628800\n"
          ]
        }
      ]
    }
  ]
}